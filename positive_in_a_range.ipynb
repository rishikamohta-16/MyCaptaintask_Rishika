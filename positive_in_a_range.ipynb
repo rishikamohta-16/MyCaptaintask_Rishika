{
 "cells": [
  {
   "cell_type": "code",
   "execution_count": 3,
   "id": "10e30ac5-0d28-4b55-a975-af04d2368c90",
   "metadata": {},
   "outputs": [
    {
     "name": "stdout",
     "output_type": "stream",
     "text": [
      "Output for l1:\n",
      "12 5 64 \n",
      "Output for l2:\n",
      "12 14 3 \n"
     ]
    }
   ],
   "source": [
    "l1 = [12, -7, 5, 64, -14]\n",
    "l2 = [12, 14, -95, 3]\n",
    "#for list1\n",
    "print(\"Output for l1:\")\n",
    "for num in l1:\n",
    "    if num > 0:\n",
    "        print(num, end=\" \")  \n",
    "print() \n",
    "\n",
    "#for list1\n",
    "print(\"Output for l2:\")\n",
    "for num in l2:\n",
    "    if num > 0:\n",
    "        print(num, end=\" \")\n",
    "print()"
   ]
  },
  {
   "cell_type": "code",
   "execution_count": null,
   "id": "2b1e656d-89b3-4358-92a6-45d31bceb106",
   "metadata": {},
   "outputs": [],
   "source": []
  }
 ],
 "metadata": {
  "kernelspec": {
   "display_name": "Python 3 (ipykernel)",
   "language": "python",
   "name": "python3"
  },
  "language_info": {
   "codemirror_mode": {
    "name": "ipython",
    "version": 3
   },
   "file_extension": ".py",
   "mimetype": "text/x-python",
   "name": "python",
   "nbconvert_exporter": "python",
   "pygments_lexer": "ipython3",
   "version": "3.13.5"
  }
 },
 "nbformat": 4,
 "nbformat_minor": 5
}
