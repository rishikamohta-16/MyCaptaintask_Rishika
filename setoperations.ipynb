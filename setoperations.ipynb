{
 "cells": [
  {
   "cell_type": "code",
   "execution_count": 2,
   "id": "ece6f3ad-fd30-4c43-89ab-d2fa41e8c966",
   "metadata": {},
   "outputs": [
    {
     "name": "stdout",
     "output_type": "stream",
     "text": [
      "Union of set1 and set2 is {0, 1, 2, 3, 4, 5, 6, 8}\n",
      "Intersection of set1 and set2 is {2, 4}\n",
      "Difference of set1 and set2 is {0, 8, 6}\n",
      "Symmetric difference of set1 and set2 is {0, 1, 3, 5, 6, 8}\n"
     ]
    }
   ],
   "source": [
    "set1 = {0, 2, 4, 6, 8}\n",
    "set2 = {1, 2, 3, 4, 5}\n",
    "\n",
    "union = set1.union(set2)\n",
    "intersection = set1.intersection(set2)\n",
    "difference = set1.difference(set2)\n",
    "symmetric_difference = set1.symmetric_difference(set2)\n",
    "\n",
    "print(\"Union of set1 and set2 is\", union)\n",
    "print(\"Intersection of set1 and set2 is\", intersection)\n",
    "print(\"Difference of set1 and set2 is\", difference)\n",
    "print(\"Symmetric difference of set1 and set2 is\", symmetric_difference)"
   ]
  },
  {
   "cell_type": "code",
   "execution_count": null,
   "id": "57923a32-22a7-4367-866c-6cb8773bfe54",
   "metadata": {},
   "outputs": [],
   "source": []
  }
 ],
 "metadata": {
  "kernelspec": {
   "display_name": "Python [conda env:base] *",
   "language": "python",
   "name": "conda-base-py"
  },
  "language_info": {
   "codemirror_mode": {
    "name": "ipython",
    "version": 3
   },
   "file_extension": ".py",
   "mimetype": "text/x-python",
   "name": "python",
   "nbconvert_exporter": "python",
   "pygments_lexer": "ipython3",
   "version": "3.13.5"
  }
 },
 "nbformat": 4,
 "nbformat_minor": 5
}
